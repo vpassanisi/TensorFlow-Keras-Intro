{
 "cells": [
  {
   "cell_type": "code",
   "execution_count": 6,
   "metadata": {
    "tags": []
   },
   "outputs": [
    {
     "output_type": "stream",
     "name": "stdout",
     "text": "Epoch 1/20\n  2/702 [..............................] - ETA: 2:51 - loss: 0.6914 - accuracy: 0.5312WARNING:tensorflow:Method (on_train_batch_end) is slow compared to the batch update (0.244346). Check your callbacks.\n702/702 [==============================] - 3s 5ms/step - loss: 0.6052 - accuracy: 0.6673 - val_loss: 0.5494 - val_accuracy: 0.7202\nEpoch 2/20\n702/702 [==============================] - 3s 4ms/step - loss: 0.5089 - accuracy: 0.7517 - val_loss: 0.4991 - val_accuracy: 0.7487\nEpoch 3/20\n702/702 [==============================] - 3s 4ms/step - loss: 0.4746 - accuracy: 0.7748 - val_loss: 0.4822 - val_accuracy: 0.7703\nEpoch 4/20\n702/702 [==============================] - 3s 4ms/step - loss: 0.4512 - accuracy: 0.7904 - val_loss: 0.4680 - val_accuracy: 0.7808\nEpoch 5/20\n702/702 [==============================] - 3s 4ms/step - loss: 0.4261 - accuracy: 0.8048 - val_loss: 0.4497 - val_accuracy: 0.7900\nEpoch 6/20\n702/702 [==============================] - 3s 4ms/step - loss: 0.4033 - accuracy: 0.8192 - val_loss: 0.4467 - val_accuracy: 0.7912\nEpoch 7/20\n702/702 [==============================] - 3s 4ms/step - loss: 0.3827 - accuracy: 0.8293 - val_loss: 0.4494 - val_accuracy: 0.7880\nEpoch 8/20\n702/702 [==============================] - 3s 4ms/step - loss: 0.3634 - accuracy: 0.8397 - val_loss: 0.4300 - val_accuracy: 0.8016\nEpoch 9/20\n702/702 [==============================] - 3s 4ms/step - loss: 0.3458 - accuracy: 0.8492 - val_loss: 0.4355 - val_accuracy: 0.8044\nEpoch 10/20\n702/702 [==============================] - 3s 4ms/step - loss: 0.3272 - accuracy: 0.8574 - val_loss: 0.4233 - val_accuracy: 0.8116\nEpoch 11/20\n702/702 [==============================] - 3s 4ms/step - loss: 0.3104 - accuracy: 0.8675 - val_loss: 0.4324 - val_accuracy: 0.7996\nEpoch 12/20\n702/702 [==============================] - 3s 4ms/step - loss: 0.2968 - accuracy: 0.8732 - val_loss: 0.4329 - val_accuracy: 0.8104\nEpoch 13/20\n702/702 [==============================] - 3s 4ms/step - loss: 0.2778 - accuracy: 0.8809 - val_loss: 0.4438 - val_accuracy: 0.8044\nEpoch 14/20\n702/702 [==============================] - 3s 4ms/step - loss: 0.2657 - accuracy: 0.8882 - val_loss: 0.4523 - val_accuracy: 0.8156\nEpoch 15/20\n702/702 [==============================] - 3s 4ms/step - loss: 0.2534 - accuracy: 0.8950 - val_loss: 0.4497 - val_accuracy: 0.8096\nEpoch 16/20\n702/702 [==============================] - 3s 4ms/step - loss: 0.2389 - accuracy: 0.9019 - val_loss: 0.4927 - val_accuracy: 0.7984\nEpoch 17/20\n702/702 [==============================] - 3s 4ms/step - loss: 0.2270 - accuracy: 0.9069 - val_loss: 0.4714 - val_accuracy: 0.8036\nEpoch 18/20\n702/702 [==============================] - 3s 4ms/step - loss: 0.2112 - accuracy: 0.9146 - val_loss: 0.4777 - val_accuracy: 0.8072\nEpoch 19/20\n702/702 [==============================] - 3s 4ms/step - loss: 0.2042 - accuracy: 0.9172 - val_loss: 0.4790 - val_accuracy: 0.8084\nEpoch 20/20\n702/702 [==============================] - 3s 4ms/step - loss: 0.1927 - accuracy: 0.9233 - val_loss: 0.5279 - val_accuracy: 0.8020\n"
    },
    {
     "output_type": "execute_result",
     "data": {
      "text/plain": "<tensorflow.python.keras.callbacks.History at 0x1aaf1efd610>"
     },
     "metadata": {},
     "execution_count": 6
    }
   ],
   "source": [
    "import tensorflow as tf\n",
    "from tensorflow.keras.models import Sequential\n",
    "from tensorflow.keras.layers import Dense, Dropout, Activation, Flatten, Conv2D, MaxPooling2D\n",
    "from tensorflow.keras.callbacks import TensorBoard\n",
    "import pickle\n",
    "import time\n",
    "import numpy as np\n",
    "\n",
    "NAME = \"Cats-vs-dog-cnn-64x2-{}\".format(int(time.time()))\n",
    "\n",
    "tensorboard = TensorBoard(log_dir='logs/{}'.format(NAME))\n",
    "\n",
    "X = pickle.load(open(\"X.pickle\", \"rb\"))\n",
    "y = pickle.load(open(\"y.pickle\", \"rb\"))\n",
    "\n",
    "X = np.array(X/255.0)\n",
    "y = np.array(y)\n",
    "\n",
    "model = Sequential()\n",
    "model.add(Conv2D(64, (3, 3), input_shape=X.shape[1:]))\n",
    "model.add(Activation(\"relu\"))\n",
    "model.add(MaxPooling2D(pool_size=(2, 2)))\n",
    "\n",
    "model.add(Conv2D(64, (3, 3)))\n",
    "model.add(Activation(\"relu\"))\n",
    "model.add(MaxPooling2D(pool_size=(2, 2)))\n",
    "\n",
    "model.add(Flatten())\n",
    "# model.add(Dense(64))\n",
    "# model.add(Activation(\"relu\"))\n",
    "\n",
    "model.add(Dense(1))\n",
    "model.add(Activation(\"sigmoid\"))\n",
    "\n",
    "model.compile(loss=\"binary_crossentropy\", optimizer=\"adam\", metrics=[\"accuracy\"])\n",
    "\n",
    "model.fit(X, y, batch_size=32, epochs=20, validation_split=0.1, callbacks=[tensorboard])\n"
   ]
  },
  {
   "cell_type": "code",
   "execution_count": null,
   "metadata": {},
   "outputs": [],
   "source": []
  }
 ],
 "metadata": {
  "language_info": {
   "codemirror_mode": {
    "name": "ipython",
    "version": 3
   },
   "file_extension": ".py",
   "mimetype": "text/x-python",
   "name": "python",
   "nbconvert_exporter": "python",
   "pygments_lexer": "ipython3",
   "version": "3.8.3-final"
  },
  "orig_nbformat": 2,
  "kernelspec": {
   "name": "python38364bitenvvenv060471c54c414395a42da36dfb6d67cf",
   "display_name": "Python 3.8.3 64-bit ('env': venv)"
  }
 },
 "nbformat": 4,
 "nbformat_minor": 2
}