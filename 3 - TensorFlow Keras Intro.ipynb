{
 "cells": [
  {
   "cell_type": "code",
   "execution_count": 1,
   "metadata": {
    "tags": []
   },
   "outputs": [
    {
     "output_type": "stream",
     "name": "stdout",
     "text": "Epoch 1/10\n702/702 [==============================] - 3s 4ms/step - loss: 0.6483 - accuracy: 0.6188 - val_loss: 0.6168 - val_accuracy: 0.6633\nEpoch 2/10\n702/702 [==============================] - 3s 4ms/step - loss: 0.5503 - accuracy: 0.7213 - val_loss: 0.5249 - val_accuracy: 0.7399\nEpoch 3/10\n702/702 [==============================] - 2s 4ms/step - loss: 0.4895 - accuracy: 0.7646 - val_loss: 0.4964 - val_accuracy: 0.7719\nEpoch 4/10\n702/702 [==============================] - 3s 4ms/step - loss: 0.4517 - accuracy: 0.7888 - val_loss: 0.4887 - val_accuracy: 0.7663\nEpoch 5/10\n702/702 [==============================] - 2s 4ms/step - loss: 0.4155 - accuracy: 0.8110 - val_loss: 0.4713 - val_accuracy: 0.7852\nEpoch 6/10\n702/702 [==============================] - 2s 3ms/step - loss: 0.3938 - accuracy: 0.8210 - val_loss: 0.4720 - val_accuracy: 0.7800\nEpoch 7/10\n702/702 [==============================] - 2s 4ms/step - loss: 0.3719 - accuracy: 0.8335 - val_loss: 0.4865 - val_accuracy: 0.7780\nEpoch 8/10\n702/702 [==============================] - 2s 3ms/step - loss: 0.3562 - accuracy: 0.8426 - val_loss: 0.4709 - val_accuracy: 0.7884\nEpoch 9/10\n702/702 [==============================] - 2s 3ms/step - loss: 0.3333 - accuracy: 0.8550 - val_loss: 0.5337 - val_accuracy: 0.7768\nEpoch 10/10\n702/702 [==============================] - 2s 3ms/step - loss: 0.3227 - accuracy: 0.8568 - val_loss: 0.4846 - val_accuracy: 0.7860\n"
    },
    {
     "output_type": "execute_result",
     "data": {
      "text/plain": "<tensorflow.python.keras.callbacks.History at 0x17a131c8280>"
     },
     "metadata": {},
     "execution_count": 1
    }
   ],
   "source": [
    "import tensorflow as tf\n",
    "from tensorflow.keras.models import Sequential\n",
    "from tensorflow.keras.layers import Dense, Dropout, Activation, Flatten, Conv2D, MaxPooling2D\n",
    "import pickle\n",
    "import numpy as np\n",
    "\n",
    "X = pickle.load(open(\"X.pickle\", \"rb\"))\n",
    "y = pickle.load(open(\"y.pickle\", \"rb\"))\n",
    "\n",
    "X = np.array(X/255.0)\n",
    "y = np.array(y)\n",
    "\n",
    "model = Sequential()\n",
    "model.add(Conv2D(64, (3, 3), input_shape=X.shape[1:]))\n",
    "model.add(Activation(\"relu\"))\n",
    "model.add(MaxPooling2D(pool_size=(2, 2)))\n",
    "\n",
    "model.add(Conv2D(64, (3, 3)))\n",
    "model.add(Activation(\"relu\"))\n",
    "model.add(MaxPooling2D(pool_size=(2, 2)))\n",
    "\n",
    "model.add(Flatten())\n",
    "model.add(Dense(64))\n",
    "\n",
    "model.add(Dense(1))\n",
    "model.add(Activation(\"sigmoid\"))\n",
    "\n",
    "model.compile(loss=\"binary_crossentropy\", optimizer=\"adam\", metrics=[\"accuracy\"])\n",
    "\n",
    "model.fit(X, y, batch_size=32, epochs=10, validation_split=0.1)\n"
   ]
  },
  {
   "cell_type": "code",
   "execution_count": null,
   "metadata": {},
   "outputs": [],
   "source": []
  }
 ],
 "metadata": {
  "language_info": {
   "codemirror_mode": {
    "name": "ipython",
    "version": 3
   },
   "file_extension": ".py",
   "mimetype": "text/x-python",
   "name": "python",
   "nbconvert_exporter": "python",
   "pygments_lexer": "ipython3",
   "version": "3.8.3-final"
  },
  "orig_nbformat": 2,
  "kernelspec": {
   "name": "python38364bitenvvenv060471c54c414395a42da36dfb6d67cf",
   "display_name": "Python 3.8.3 64-bit ('env': venv)"
  }
 },
 "nbformat": 4,
 "nbformat_minor": 2
}